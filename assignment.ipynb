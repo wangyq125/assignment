{
 "cells": [
  {
   "cell_type": "markdown",
   "id": "519b9984-895a-46ae-9e0f-5aa3504afae9",
   "metadata": {},
   "source": [
    "# My Jupyter Notebook on IBM Watson Studio"
   ]
  },
  {
   "cell_type": "markdown",
   "id": "1636f30d-dab4-402b-8c56-ac79a393e70b",
   "metadata": {},
   "source": [
    "## **Wang**\n",
    "## college student"
   ]
  },
  {
   "cell_type": "markdown",
   "id": "ccb33c05-7df0-4916-875e-55c2b0961d6f",
   "metadata": {},
   "source": [
    "## *I am interested in data science because I want to be a data scientist in the future. And as a year 4 student I have lots of time to devote to the things that appeal to me* "
   ]
  },
  {
   "cell_type": "markdown",
   "id": "1b33f409-c0ae-4d2d-bb4a-ffcf2c8c9e7d",
   "metadata": {},
   "source": [
    "### simple math function y=a^2+b"
   ]
  },
  {
   "cell_type": "code",
   "execution_count": 9,
   "id": "ef36d79d-b1a4-44c8-a2b3-64f3c25849a6",
   "metadata": {},
   "outputs": [
    {
     "name": "stdout",
     "output_type": "stream",
     "text": [
      "35\n"
     ]
    }
   ],
   "source": [
    "a=5\n",
    "b=10\n",
    "y=a**2+b\n",
    "print(y)"
   ]
  },
  {
   "cell_type": "markdown",
   "id": "8bd2299c-00df-4686-b561-3973029f1038",
   "metadata": {},
   "source": [
    "### ~~strikethrough~~\n",
    "<img src=\"https://logos-download.com/wp-content/uploads/2017/07/Apple_Logo_1998.svg\">\n",
    "\n",
    "Markdown | Less | Pretty\n",
    "--- | --- | ---\n",
    "*Still* | `renders` | **nicely**\n",
    "1 | 2 | 3\n",
    "5|4|7|"
   ]
  },
  {
   "cell_type": "code",
   "execution_count": null,
   "id": "bb4fa892-5dd3-4b4f-8efb-e5e1af02ffdc",
   "metadata": {},
   "outputs": [],
   "source": []
  }
 ],
 "metadata": {
  "kernelspec": {
   "display_name": "Python",
   "language": "python",
   "name": "conda-env-python-py"
  },
  "language_info": {
   "codemirror_mode": {
    "name": "ipython",
    "version": 3
   },
   "file_extension": ".py",
   "mimetype": "text/x-python",
   "name": "python",
   "nbconvert_exporter": "python",
   "pygments_lexer": "ipython3",
   "version": "3.7.12"
  }
 },
 "nbformat": 4,
 "nbformat_minor": 5
}
